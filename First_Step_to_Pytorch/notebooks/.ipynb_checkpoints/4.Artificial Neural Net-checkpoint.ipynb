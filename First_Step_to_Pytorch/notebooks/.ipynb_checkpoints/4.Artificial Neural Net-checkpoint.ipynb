{
 "cells": [
  {
   "cell_type": "markdown",
   "metadata": {},
   "source": [
    "# 4.1. 신경망이란 무엇인가\n",
    "- 여러 자극 혹은 입력이 들어오면 각각 가중치를 곱해 더해주고 편차를 더해준 다음 이 값을 활성화함수를 통해 변형하여 전달\n",
    "- 한 단위를 인공뉴런이라 하며, 이 뉴런들이 모인 네트워크를 인공신경망이라 함"
   ]
  },
  {
   "cell_type": "markdown",
   "metadata": {},
   "source": [
    "# 4.2. 인공 신경망의 요소\n",
    "- 여러 개의 입력값과 출력값을 가질 수 있으며, 은닉층의 수에 따라 ANN과 DNN으로 나눠서 부름\n",
    "- ANN은 수식으로 표현하면 아래와 같음\n",
    "    - y = w2(sigma(w1 * x + b1)) + b2\n",
    "- 층이 세 개 있는 DNN은 다음과 같이 표현 가능\n",
    "    - y = w4(sigma(w3(sigma(w2(sigma(w1 * x  + b1) + b2)) + b3)) + b4\n",
    "- sigma는 활성화함수를 의미하며 비선형성을 갖는 시그모이드/하이퍼볼릭탄젠트/렐루같은 활성화함수를 이용함"
   ]
  },
  {
   "cell_type": "markdown",
   "metadata": {},
   "source": [
    "- 대표적인 활성화함수\n",
    "    - 시그모이드 : y(x) = 1 / (1 + e^-x)\n",
    "    - 하이퍼볼릭 탄젠트 : y(x) = (e^x - e^-x)/(e^x + e^-x)\n",
    "        - 위 두 함수는 모든 구간에서 미분이 가능하다는 장점이 있음\n",
    "    - 렐루 : y(x) = max(0, x)\n",
    "        - 0인 지점에서 미분이 안된다는 단점"
   ]
  },
  {
   "cell_type": "markdown",
   "metadata": {},
   "source": [
    "# 4.3. 전파와 역전파(Forward propagation And backward propagation)\n",
    "- 전파 : 입력값이 여러 은닉층을 통과하여 결과로 나오는 과정\n",
    "- 역전파 : 결과와 정답의 차이로 계산된 손실을 미분의 연쇄법칙을 이용하여 입력단까지 다시 전달하는 과정"
   ]
  },
  {
   "cell_type": "markdown",
   "metadata": {},
   "source": [
    "# 4.4. 모델 구현, 학습 및 결과확인"
   ]
  },
  {
   "cell_type": "code",
   "execution_count": 1,
   "metadata": {},
   "outputs": [],
   "source": [
    "import torch\n",
    "import torch.nn as nn\n",
    "import torch.optim as optim\n",
    "import torch.nn.init as init"
   ]
  },
  {
   "cell_type": "code",
   "execution_count": 7,
   "metadata": {},
   "outputs": [],
   "source": [
    "num_data = 1000\n",
    "num_epochs = 10000\n",
    "# 데이터 세팅\n",
    "noise = init.normal_(torch.FloatTensor(num_data, 1), std = 1)\n",
    "x = init.uniform_(torch.Tensor(num_data, 1), -15, 15)\n",
    "y = (x**2) + 3\n",
    "y_noise = y + noise"
   ]
  },
  {
   "cell_type": "code",
   "execution_count": 8,
   "metadata": {},
   "outputs": [],
   "source": [
    "model = nn.Sequential(\n",
    "    nn.Linear(1, 6),\n",
    "    nn.ReLU(),\n",
    "    nn.Linear(6, 10),\n",
    "    nn.ReLU(),\n",
    "    nn.Linear(10, 6),\n",
    "    nn.ReLU(),\n",
    "    nn.Linear(6, 1)\n",
    ")\n",
    "\n",
    "loss_func = nn.L1Loss()\n",
    "optimizer = optim.SGD(model.parameters(), lr = 0.0002)\n",
    "\n",
    "loss_array = []\n",
    "\n",
    "for i in range(num_epochs):\n",
    "    optimizer.zero_grad()\n",
    "    output = model(x)\n",
    "    loss = loss_func(output, y_noise)\n",
    "    loss.backward() # 오차 역전파\n",
    "    optimizer.step()\n",
    "    \n",
    "    loss_array.append(loss)"
   ]
  },
  {
   "cell_type": "code",
   "execution_count": 9,
   "metadata": {},
   "outputs": [
    {
     "data": {
      "image/png": "[encoded data removed]",
      "text/plain": [
       "<Figure size 432x288 with 1 Axes>"
      ]
     },
     "metadata": {
      "needs_background": "light"
     },
     "output_type": "display_data"
    }
   ],
   "source": [
    "import matplotlib.pyplot as plt\n",
    "\n",
    "plt.plot(loss_array)\n",
    "plt.show()"
   ]
  }
 ],
 "metadata": {
  "kernelspec": {
   "display_name": "Python 3",
   "language": "python",
   "name": "python3"
  },
  "language_info": {
   "codemirror_mode": {
    "name": "ipython",
    "version": 3
   },
   "file_extension": ".py",
   "mimetype": "text/x-python",
   "name": "python",
   "nbconvert_exporter": "python",
   "pygments_lexer": "ipython3",
   "version": "3.8.5"
  }
 },
 "nbformat": 4,
 "nbformat_minor": 4
}
